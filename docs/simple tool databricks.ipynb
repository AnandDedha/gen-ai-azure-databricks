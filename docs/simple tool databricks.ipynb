{
 "cells": [
  {
   "cell_type": "markdown",
   "metadata": {
    "application/vnd.databricks.v1+cell": {
     "cellMetadata": {},
     "inputWidgets": {},
     "nuid": "b8b5c736-0dd1-4b48-a26e-a174dae1ece1",
     "showTitle": false,
     "tableResultSettingsMap": {},
     "title": ""
    }
   },
   "source": [
    "Tool‑calling Agents — LLM decides which tool/API to call\n",
    "\n",
    "When to use: You need dynamic decisions (“should I call SQL? a REST API? run a UC function?”) without orchestrating every step in code."
   ]
  },
  {
   "cell_type": "code",
   "execution_count": 0,
   "metadata": {
    "application/vnd.databricks.v1+cell": {
     "cellMetadata": {
      "byteLimit": 2048000,
      "rowLimit": 10000
     },
     "inputWidgets": {},
     "nuid": "9ccd85d1-7b99-4804-aaf0-617eaf862d1a",
     "showTitle": false,
     "tableResultSettingsMap": {},
     "title": ""
    }
   },
   "outputs": [],
   "source": [
    "%pip install unitycatalog-ai[databricks] databricks-langchain langchain\n"
   ]
  },
  {
   "cell_type": "code",
   "execution_count": 0,
   "metadata": {
    "application/vnd.databricks.v1+cell": {
     "cellMetadata": {
      "byteLimit": 2048000,
      "rowLimit": 10000
     },
     "inputWidgets": {},
     "nuid": "e2399bef-e682-40ae-9dfe-733af65ffa9d",
     "showTitle": false,
     "tableResultSettingsMap": {},
     "title": ""
    }
   },
   "outputs": [],
   "source": [
    "dbutils.library.restartPython()"
   ]
  },
  {
   "cell_type": "code",
   "execution_count": 0,
   "metadata": {
    "application/vnd.databricks.v1+cell": {
     "cellMetadata": {
      "byteLimit": 2048000,
      "rowLimit": 10000
     },
     "inputWidgets": {},
     "nuid": "64155996-5184-4aac-b95a-19fd3d7bac35",
     "showTitle": false,
     "tableResultSettingsMap": {},
     "title": ""
    }
   },
   "outputs": [],
   "source": [
    "# 1) Make sure the notebook uses its built-in Spark session (not Spark Connect)\n",
    "import os\n",
    "for k in (\"DATABRICKS_HOST\", \"DATABRICKS_TOKEN\", \"DATABRICKS_CONFIG_PROFILE\"):\n",
    "    os.environ.pop(k, None)\n",
    "\n",
    "# 2) (Optional) Explicitly bind to the default notebook Spark session\n",
    "from databricks.connect import DatabricksSession\n",
    "spark = DatabricksSession.builder.getOrCreate()  # no parameters!\n",
    "\n",
    "# 3) Sanity check\n",
    "spark.sql(\"SELECT 1\").show()\n"
   ]
  },
  {
   "cell_type": "code",
   "execution_count": 0,
   "metadata": {
    "application/vnd.databricks.v1+cell": {
     "cellMetadata": {
      "byteLimit": 2048000,
      "rowLimit": 10000
     },
     "inputWidgets": {},
     "nuid": "65af5542-7dce-4523-8259-f2170c111d5d",
     "showTitle": false,
     "tableResultSettingsMap": {},
     "title": ""
    }
   },
   "outputs": [],
   "source": [
    "from unitycatalog.ai.core.databricks import DatabricksFunctionClient\n",
    "from databricks_langchain import UCFunctionToolkit, ChatDatabricks, set_uc_function_client\n",
    "from langchain.agents import create_tool_calling_agent, AgentExecutor\n",
    "from langchain.prompts import ChatPromptTemplate\n",
    "\n",
    "# IMPORTANT: local mode avoids serverless + Spark Connect in notebooks\n",
    "client = DatabricksFunctionClient(execution_mode=\"local\")\n",
    "set_uc_function_client(client)   # ensure tool calls use the same local-mode client\n",
    "\n",
    "CATALOG, SCHEMA = \"hive_metastore\", \"default\"\n",
    "\n",
    "def add_numbers(number_1: float, number_2: float) -> float:\n",
    "     \"\"\"Add two numbers and return the sum.\"\"\"\n",
    "     return number_1 + number_2\n",
    "\n",
    "# create the UC function using the same client\n",
    "client.create_python_function(func=add_numbers, catalog=CATALOG, schema=SCHEMA, replace=True)\n",
    "func_name = f\"{CATALOG}.{SCHEMA}.add_numbers\"\n",
    "\n",
    "toolkit = UCFunctionToolkit(function_names=[func_name])\n",
    "llm = ChatDatabricks(model=\"databricks-meta-llama-3-3-70b-instruct\", temperature=0)  # 'model' is also accepted\n",
    "\n",
    "prompt = ChatPromptTemplate.from_messages([\n",
    "    (\"system\", \"You are helpful. Use tools when needed, otherwise answer directly.\"),\n",
    "    (\"human\", \"{input}\")\n",
    "])\n",
    "\n",
    "agent = create_tool_calling_agent(llm, toolkit.tools, prompt)\n",
    "executor = AgentExecutor(agent=agent, tools=toolkit.tools, verbose=True)\n",
    "\n",
    "print(executor.invoke({\"input\": \"What is 36939.0 + 8922.4?\"}))"
   ]
  }
 ],
 "metadata": {
  "application/vnd.databricks.v1+notebook": {
   "computePreferences": null,
   "dashboards": [],
   "environmentMetadata": {
    "base_environment": "",
    "environment_version": "3"
   },
   "inputWidgetPreferences": null,
   "language": "python",
   "notebookMetadata": {
    "pythonIndentUnit": 4
   },
   "notebookName": "Tools chatbot",
   "widgets": {}
  },
  "language_info": {
   "name": "python"
  }
 },
 "nbformat": 4,
 "nbformat_minor": 0
}
