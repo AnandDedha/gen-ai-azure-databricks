{
 "cells": [
  {
   "cell_type": "markdown",
   "metadata": {
    "application/vnd.databricks.v1+cell": {
     "cellMetadata": {
      "byteLimit": 2048000,
      "rowLimit": 10000
     },
     "inputWidgets": {},
     "nuid": "748212fa-26b8-40ba-86a0-a169faa9d45f",
     "showTitle": false,
     "tableResultSettingsMap": {},
     "title": ""
    }
   },
   "source": [
    " Simple chatbot - Standalone LLM (Classic: LLM + Prompt)\n",
    " When to use: FAQ chat, simple assistants, quick prototypes. No tool calls; just prompt → model → answer."
   ]
  },
  {
   "cell_type": "code",
   "execution_count": 0,
   "metadata": {
    "application/vnd.databricks.v1+cell": {
     "cellMetadata": {
      "byteLimit": 2048000,
      "rowLimit": 10000
     },
     "collapsed": true,
     "inputWidgets": {},
     "nuid": "c3df21e7-3a8f-46e9-ba76-90776d3351ab",
     "showTitle": false,
     "tableResultSettingsMap": {},
     "title": ""
    }
   },
   "outputs": [],
   "source": [
    "%pip install -U mlflow databricks-sdk databricks-langchain unitycatalog-ai[databricks] \\\n",
    "databricks-vectorsearch langchain langgraph\n"
   ]
  },
  {
   "cell_type": "code",
   "execution_count": 0,
   "metadata": {
    "application/vnd.databricks.v1+cell": {
     "cellMetadata": {
      "byteLimit": 2048000,
      "rowLimit": 10000
     },
     "collapsed": true,
     "inputWidgets": {},
     "nuid": "e6c6efc9-abc5-46d3-b62c-906107505c6e",
     "showTitle": false,
     "tableResultSettingsMap": {},
     "title": ""
    }
   },
   "outputs": [],
   "source": [
    "dbutils.library.restartPython()\n"
   ]
  },
  {
   "cell_type": "code",
   "execution_count": 0,
   "metadata": {
    "application/vnd.databricks.v1+cell": {
     "cellMetadata": {
      "byteLimit": 2048000,
      "rowLimit": 10000
     },
     "inputWidgets": {},
     "nuid": "75975d9a-96e4-4e2d-9569-5f02bccf967d",
     "showTitle": false,
     "tableResultSettingsMap": {},
     "title": ""
    }
   },
   "outputs": [],
   "source": [
    "import os, mlflow.deployments\n",
    "\n",
    "\n",
    "client = mlflow.deployments.get_deploy_client(\"databricks\")\n",
    "\n",
    "\n",
    "resp = client.predict(\n",
    "endpoint=\"databricks-meta-llama-3-1-8b-instruct\", # choose your chat model endpoint\n",
    "inputs={\n",
    "\"messages\": [\n",
    "{\"role\": \"system\", \"content\": \"You are a concise, accurate assistant.\"},\n",
    "{\"role\": \"user\", \"content\": \"Tell me about gurjar community in one paragraph.\"},\n",
    "],\n",
    "\"max_tokens\": 300,\n",
    "\"temperature\": 0.2,\n",
    "},\n",
    ")\n",
    "print(resp[\"choices\"][0][\"message\"][\"content\"])"
   ]
  }
 ],
 "metadata": {
  "application/vnd.databricks.v1+notebook": {
   "computePreferences": null,
   "dashboards": [],
   "environmentMetadata": {
    "base_environment": "",
    "environment_version": "3"
   },
   "inputWidgetPreferences": null,
   "language": "python",
   "notebookMetadata": {
    "pythonIndentUnit": 4
   },
   "notebookName": "simple chat box",
   "widgets": {}
  },
  "language_info": {
   "name": "python"
  }
 },
 "nbformat": 4,
 "nbformat_minor": 0
}
