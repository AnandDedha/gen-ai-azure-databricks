{
 "cells": [
  {
   "cell_type": "code",
   "execution_count": 0,
   "metadata": {
    "application/vnd.databricks.v1+cell": {
     "cellMetadata": {
      "byteLimit": 2048000,
      "rowLimit": 10000
     },
     "inputWidgets": {},
     "nuid": "0ffff50d-0289-438b-a641-1261ba855495",
     "showTitle": false,
     "tableResultSettingsMap": {},
     "title": ""
    }
   },
   "outputs": [
    {
     "output_type": "stream",
     "name": "stdout",
     "output_type": "stream",
     "text": [
      "\u001B[33mDEPRECATION: Using the pkg_resources metadata backend is deprecated. pip 26.3 will enforce this behaviour change. A possible replacement is to use the default importlib.metadata backend, by unsetting the _PIP_USE_IMPORTLIB_METADATA environment variable. Discussion can be found at https://github.com/pypa/pip/issues/13317\u001B[0m\u001B[33m\n\u001B[0mRequirement already satisfied: mlflow in /local_disk0/.ephemeral_nfs/envs/pythonEnv-1a4a884d-62ab-45a3-b127-75cb88c5b55f/lib/python3.12/site-packages (3.3.2)\nRequirement already satisfied: databricks-sdk in /local_disk0/.ephemeral_nfs/envs/pythonEnv-1a4a884d-62ab-45a3-b127-75cb88c5b55f/lib/python3.12/site-packages (0.64.0)\nRequirement already satisfied: databricks-langchain in /local_disk0/.ephemeral_nfs/envs/pythonEnv-1a4a884d-62ab-45a3-b127-75cb88c5b55f/lib/python3.12/site-packages (0.7.1)\nRequirement already satisfied: databricks-vectorsearch in /local_disk0/.ephemeral_nfs/envs/pythonEnv-1a4a884d-62ab-45a3-b127-75cb88c5b55f/lib/python3.12/site-packages (0.57)\nRequirement already satisfied: langchain in /local_disk0/.ephemeral_nfs/envs/pythonEnv-1a4a884d-62ab-45a3-b127-75cb88c5b55f/lib/python3.12/site-packages (0.3.27)\nRequirement already satisfied: langgraph in /local_disk0/.ephemeral_nfs/envs/pythonEnv-1a4a884d-62ab-45a3-b127-75cb88c5b55f/lib/python3.12/site-packages (0.6.6)\nCollecting faiss-cpu\n  Downloading faiss_cpu-1.12.0-cp312-cp312-manylinux_2_27_x86_64.manylinux_2_28_x86_64.whl.metadata (5.1 kB)\nRequirement already satisfied: unitycatalog-ai[databricks] in /local_disk0/.ephemeral_nfs/envs/pythonEnv-1a4a884d-62ab-45a3-b127-75cb88c5b55f/lib/python3.12/site-packages (0.3.2)\nRequirement already satisfied: mlflow-skinny==3.3.2 in /local_disk0/.ephemeral_nfs/envs/pythonEnv-1a4a884d-62ab-45a3-b127-75cb88c5b55f/lib/python3.12/site-packages (from mlflow) (3.3.2)\nRequirement already satisfied: mlflow-tracing==3.3.2 in /local_disk0/.ephemeral_nfs/envs/pythonEnv-1a4a884d-62ab-45a3-b127-75cb88c5b55f/lib/python3.12/site-packages (from mlflow) (3.3.2)\nRequirement already satisfied: Flask<4 in /databricks/python3/lib/python3.12/site-packages (from mlflow) (2.2.5)\nRequirement already satisfied: alembic!=1.10.0,<2 in /databricks/python3/lib/python3.12/site-packages (from mlflow) (1.14.1)\nRequirement already satisfied: cryptography<46,>=43.0.0 in /local_disk0/.ephemeral_nfs/envs/pythonEnv-1a4a884d-62ab-45a3-b127-75cb88c5b55f/lib/python3.12/site-packages (from mlflow) (45.0.6)\nRequirement already satisfied: docker<8,>=4.0.0 in /local_disk0/.ephemeral_nfs/envs/pythonEnv-1a4a884d-62ab-45a3-b127-75cb88c5b55f/lib/python3.12/site-packages (from mlflow) (7.1.0)\nRequirement already satisfied: graphene<4 in /local_disk0/.ephemeral_nfs/envs/pythonEnv-1a4a884d-62ab-45a3-b127-75cb88c5b55f/lib/python3.12/site-packages (from mlflow) (3.4.3)\nRequirement already satisfied: gunicorn<24 in /databricks/python3/lib/python3.12/site-packages (from mlflow) (20.1.0)\nRequirement already satisfied: matplotlib<4 in /databricks/python3/lib/python3.12/site-packages (from mlflow) (3.8.4)\nRequirement already satisfied: numpy<3 in /databricks/python3/lib/python3.12/site-packages (from mlflow) (1.26.4)\nRequirement already satisfied: pandas<3 in /databricks/python3/lib/python3.12/site-packages (from mlflow) (1.5.3)\nRequirement already satisfied: pyarrow<22,>=4.0.0 in /databricks/python3/lib/python3.12/site-packages (from mlflow) (15.0.2)\nRequirement already satisfied: scikit-learn<2 in /databricks/python3/lib/python3.12/site-packages (from mlflow) (1.4.2)\nRequirement already satisfied: scipy<2 in /databricks/python3/lib/python3.12/site-packages (from mlflow) (1.13.1)\nRequirement already satisfied: sqlalchemy<3,>=1.4.0 in /databricks/python3/lib/python3.12/site-packages (from mlflow) (2.0.30)\nRequirement already satisfied: cachetools<7,>=5.0.0 in /databricks/python3/lib/python3.12/site-packages (from mlflow-skinny==3.3.2->mlflow) (5.3.3)\nRequirement already satisfied: click<9,>=7.0 in /databricks/python3/lib/python3.12/site-packages (from mlflow-skinny==3.3.2->mlflow) (8.1.7)\nRequirement already satisfied: cloudpickle<4 in /databricks/python3/lib/python3.12/site-packages (from mlflow-skinny==3.3.2->mlflow) (2.2.1)\nRequirement already satisfied: fastapi<1 in /databricks/python3/lib/python3.12/site-packages (from mlflow-skinny==3.3.2->mlflow) (0.115.12)\nRequirement already satisfied: gitpython<4,>=3.1.9 in /databricks/python3/lib/python3.12/site-packages (from mlflow-skinny==3.3.2->mlflow) (3.1.37)\nRequirement already satisfied: importlib_metadata!=4.7.0,<9,>=3.7.0 in /databricks/python3/lib/python3.12/site-packages (from mlflow-skinny==3.3.2->mlflow) (6.0.0)\nRequirement already satisfied: opentelemetry-api<3,>=1.9.0 in /databricks/python3/lib/python3.12/site-packages (from mlflow-skinny==3.3.2->mlflow) (1.32.0)\nRequirement already satisfied: opentelemetry-sdk<3,>=1.9.0 in /databricks/python3/lib/python3.12/site-packages (from mlflow-skinny==3.3.2->mlflow) (1.32.0)\nRequirement already satisfied: packaging<26 in /databricks/python3/lib/python3.12/site-packages (from mlflow-skinny==3.3.2->mlflow) (24.1)\nRequirement already satisfied: protobuf<7,>=3.12.0 in /local_disk0/.ephemeral_nfs/envs/pythonEnv-1a4a884d-62ab-45a3-b127-75cb88c5b55f/lib/python3.12/site-packages (from mlflow-skinny==3.3.2->mlflow) (5.29.5)\nRequirement already satisfied: pydantic<3,>=1.10.8 in /local_disk0/.ephemeral_nfs/envs/pythonEnv-1a4a884d-62ab-45a3-b127-75cb88c5b55f/lib/python3.12/site-packages (from mlflow-skinny==3.3.2->mlflow) (2.11.7)\nRequirement already satisfied: pyyaml<7,>=5.1 in /databricks/python3/lib/python3.12/site-packages (from mlflow-skinny==3.3.2->mlflow) (6.0.1)\nRequirement already satisfied: requests<3,>=2.17.3 in /local_disk0/.ephemeral_nfs/envs/pythonEnv-1a4a884d-62ab-45a3-b127-75cb88c5b55f/lib/python3.12/site-packages (from mlflow-skinny==3.3.2->mlflow) (2.32.5)\nRequirement already satisfied: sqlparse<1,>=0.4.0 in /databricks/python3/lib/python3.12/site-packages (from mlflow-skinny==3.3.2->mlflow) (0.4.2)\nRequirement already satisfied: typing-extensions<5,>=4.0.0 in /local_disk0/.ephemeral_nfs/envs/pythonEnv-1a4a884d-62ab-45a3-b127-75cb88c5b55f/lib/python3.12/site-packages (from mlflow-skinny==3.3.2->mlflow) (4.15.0)\nRequirement already satisfied: uvicorn<1 in /databricks/python3/lib/python3.12/site-packages (from mlflow-skinny==3.3.2->mlflow) (0.34.1)\nRequirement already satisfied: google-auth~=2.0 in /databricks/python3/lib/python3.12/site-packages (from databricks-sdk) (2.21.0)\nRequirement already satisfied: Mako in /databricks/python3/lib/python3.12/site-packages (from alembic!=1.10.0,<2->mlflow) (1.2.0)\nRequirement already satisfied: cffi>=1.14 in /databricks/python3/lib/python3.12/site-packages (from cryptography<46,>=43.0.0->mlflow) (1.16.0)\nRequirement already satisfied: urllib3>=1.26.0 in /databricks/python3/lib/python3.12/site-packages (from docker<8,>=4.0.0->mlflow) (1.26.16)\nRequirement already satisfied: starlette<0.47.0,>=0.40.0 in /databricks/python3/lib/python3.12/site-packages (from fastapi<1->mlflow-skinny==3.3.2->mlflow) (0.46.2)\nRequirement already satisfied: Werkzeug>=2.2.2 in /databricks/python3/lib/python3.12/site-packages (from Flask<4->mlflow) (3.0.3)\nRequirement already satisfied: Jinja2>=3.0 in /databricks/python3/lib/python3.12/site-packages (from Flask<4->mlflow) (3.1.4)\nRequirement already satisfied: itsdangerous>=2.0 in /databricks/python3/lib/python3.12/site-packages (from Flask<4->mlflow) (2.2.0)\nRequirement already satisfied: gitdb<5,>=4.0.1 in /databricks/python3/lib/python3.12/site-packages (from gitpython<4,>=3.1.9->mlflow-skinny==3.3.2->mlflow) (4.0.11)\nRequirement already satisfied: smmap<6,>=3.0.1 in /databricks/python3/lib/python3.12/site-packages (from gitdb<5,>=4.0.1->gitpython<4,>=3.1.9->mlflow-skinny==3.3.2->mlflow) (5.0.0)\nRequirement already satisfied: pyasn1-modules>=0.2.1 in /databricks/python3/lib/python3.12/site-packages (from google-auth~=2.0->databricks-sdk) (0.2.8)\nRequirement already satisfied: rsa<5,>=3.1.4 in /databricks/python3/lib/python3.12/site-packages (from google-auth~=2.0->databricks-sdk) (4.9)\nRequirement already satisfied: six>=1.9.0 in /usr/lib/python3/dist-packages (from google-auth~=2.0->databricks-sdk) (1.16.0)\nRequirement already satisfied: graphql-core<3.3,>=3.1 in /databricks/python3/lib/python3.12/site-packages (from graphene<4->mlflow) (3.2.4)\nRequirement already satisfied: graphql-relay<3.3,>=3.1 in /local_disk0/.ephemeral_nfs/envs/pythonEnv-1a4a884d-62ab-45a3-b127-75cb88c5b55f/lib/python3.12/site-packages (from graphene<4->mlflow) (3.2.0)\nRequirement already satisfied: python-dateutil<3,>=2.7.0 in /databricks/python3/lib/python3.12/site-packages (from graphene<4->mlflow) (2.9.0.post0)\nRequirement already satisfied: setuptools>=3.0 in /usr/local/lib/python3.12/dist-packages (from gunicorn<24->mlflow) (74.0.0)\nRequirement already satisfied: zipp>=0.5 in /databricks/python3/lib/python3.12/site-packages (from importlib_metadata!=4.7.0,<9,>=3.7.0->mlflow-skinny==3.3.2->mlflow) (3.17.0)\nRequirement already satisfied: contourpy>=1.0.1 in /databricks/python3/lib/python3.12/site-packages (from matplotlib<4->mlflow) (1.2.0)\nRequirement already satisfied: cycler>=0.10 in /databricks/python3/lib/python3.12/site-packages (from matplotlib<4->mlflow) (0.11.0)\nRequirement already satisfied: fonttools>=4.22.0 in /databricks/python3/lib/python3.12/site-packages (from matplotlib<4->mlflow) (4.51.0)\nRequirement already satisfied: kiwisolver>=1.3.1 in /databricks/python3/lib/python3.12/site-packages (from matplotlib<4->mlflow) (1.4.4)\nRequirement already satisfied: pillow>=8 in /databricks/python3/lib/python3.12/site-packages (from matplotlib<4->mlflow) (10.3.0)\nRequirement already satisfied: pyparsing>=2.3.1 in /databricks/python3/lib/python3.12/site-packages (from matplotlib<4->mlflow) (3.0.9)\nRequirement already satisfied: deprecated>=1.2.6 in /databricks/python3/lib/python3.12/site-packages (from opentelemetry-api<3,>=1.9.0->mlflow-skinny==3.3.2->mlflow) (1.2.18)\nRequirement already satisfied: opentelemetry-semantic-conventions==0.53b0 in /databricks/python3/lib/python3.12/site-packages (from opentelemetry-sdk<3,>=1.9.0->mlflow-skinny==3.3.2->mlflow) (0.53b0)\nRequirement already satisfied: pytz>=2020.1 in /databricks/python3/lib/python3.12/site-packages (from pandas<3->mlflow) (2024.1)\nRequirement already satisfied: annotated-types>=0.6.0 in /databricks/python3/lib/python3.12/site-packages (from pydantic<3,>=1.10.8->mlflow-skinny==3.3.2->mlflow) (0.7.0)\nRequirement already satisfied: pydantic-core==2.33.2 in /local_disk0/.ephemeral_nfs/envs/pythonEnv-1a4a884d-62ab-45a3-b127-75cb88c5b55f/lib/python3.12/site-packages (from pydantic<3,>=1.10.8->mlflow-skinny==3.3.2->mlflow) (2.33.2)\nRequirement already satisfied: typing-inspection>=0.4.0 in /local_disk0/.ephemeral_nfs/envs/pythonEnv-1a4a884d-62ab-45a3-b127-75cb88c5b55f/lib/python3.12/site-packages (from pydantic<3,>=1.10.8->mlflow-skinny==3.3.2->mlflow) (0.4.1)\nRequirement already satisfied: charset_normalizer<4,>=2 in /databricks/python3/lib/python3.12/site-packages (from requests<3,>=2.17.3->mlflow-skinny==3.3.2->mlflow) (2.0.4)\nRequirement already satisfied: idna<4,>=2.5 in /databricks/python3/lib/python3.12/site-packages (from requests<3,>=2.17.3->mlflow-skinny==3.3.2->mlflow) (3.7)\nRequirement already satisfied: certifi>=2017.4.17 in /databricks/python3/lib/python3.12/site-packages (from requests<3,>=2.17.3->mlflow-skinny==3.3.2->mlflow) (2024.6.2)\nRequirement already satisfied: pyasn1>=0.1.3 in /databricks/python3/lib/python3.12/site-packages (from rsa<5,>=3.1.4->google-auth~=2.0->databricks-sdk) (0.4.8)\nRequirement already satisfied: joblib>=1.2.0 in /databricks/python3/lib/python3.12/site-packages (from scikit-learn<2->mlflow) (1.4.2)\nRequirement already satisfied: threadpoolctl>=2.0.0 in /databricks/python3/lib/python3.12/site-packages (from scikit-learn<2->mlflow) (2.2.0)\nRequirement already satisfied: greenlet!=0.4.17 in /databricks/python3/lib/python3.12/site-packages (from sqlalchemy<3,>=1.4.0->mlflow) (3.0.1)\nRequirement already satisfied: anyio<5,>=3.6.2 in /databricks/python3/lib/python3.12/site-packages (from starlette<0.47.0,>=0.40.0->fastapi<1->mlflow-skinny==3.3.2->mlflow) (4.2.0)\nRequirement already satisfied: sniffio>=1.1 in /databricks/python3/lib/python3.12/site-packages (from anyio<5,>=3.6.2->starlette<0.47.0,>=0.40.0->fastapi<1->mlflow-skinny==3.3.2->mlflow) (1.3.0)\nRequirement already satisfied: h11>=0.8 in /databricks/python3/lib/python3.12/site-packages (from uvicorn<1->mlflow-skinny==3.3.2->mlflow) (0.14.0)\nRequirement already satisfied: databricks-ai-bridge>=0.7.1 in /local_disk0/.ephemeral_nfs/envs/pythonEnv-1a4a884d-62ab-45a3-b127-75cb88c5b55f/lib/python3.12/site-packages (from databricks-langchain) (0.7.1)\nRequirement already satisfied: openai>=1.99.9 in /local_disk0/.ephemeral_nfs/envs/pythonEnv-1a4a884d-62ab-45a3-b127-75cb88c5b55f/lib/python3.12/site-packages (from databricks-langchain) (1.102.0)\nRequirement already satisfied: unitycatalog-langchain>=0.2.0 in /local_disk0/.ephemeral_nfs/envs/pythonEnv-1a4a884d-62ab-45a3-b127-75cb88c5b55f/lib/python3.12/site-packages (from unitycatalog-langchain[databricks]>=0.2.0->databricks-langchain) (0.2.0)\nRequirement already satisfied: nest-asyncio in /databricks/python3/lib/python3.12/site-packages (from unitycatalog-ai[databricks]) (1.6.0)\nRequirement already satisfied: unitycatalog-client in /local_disk0/.ephemeral_nfs/envs/pythonEnv-1a4a884d-62ab-45a3-b127-75cb88c5b55f/lib/python3.12/site-packages (from unitycatalog-ai[databricks]) (0.3.0)\nRequirement already satisfied: databricks-connect<17.1,>=15.1.0 in /local_disk0/.ephemeral_nfs/envs/pythonEnv-1a4a884d-62ab-45a3-b127-75cb88c5b55f/lib/python3.12/site-packages (from unitycatalog-ai[databricks]) (17.0.4)\nRequirement already satisfied: googleapis-common-protos>=1.65.0 in /databricks/python3/lib/python3.12/site-packages (from databricks-connect<17.1,>=15.1.0->unitycatalog-ai[databricks]) (1.70.0)\nRequirement already satisfied: grpcio-status>=1.67.0 in /local_disk0/.ephemeral_nfs/envs/pythonEnv-1a4a884d-62ab-45a3-b127-75cb88c5b55f/lib/python3.12/site-packages (from databricks-connect<17.1,>=15.1.0->unitycatalog-ai[databricks]) (1.71.2)\nRequirement already satisfied: grpcio>=1.67.0 in /local_disk0/.ephemeral_nfs/envs/pythonEnv-1a4a884d-62ab-45a3-b127-75cb88c5b55f/lib/python3.12/site-packages (from databricks-connect<17.1,>=15.1.0->unitycatalog-ai[databricks]) (1.74.0)\nRequirement already satisfied: py4j==0.10.9.9 in /local_disk0/.ephemeral_nfs/envs/pythonEnv-1a4a884d-62ab-45a3-b127-75cb88c5b55f/lib/python3.12/site-packages (from databricks-connect<17.1,>=15.1.0->unitycatalog-ai[databricks]) (0.10.9.9)\nRequirement already satisfied: deprecation>=2 in /local_disk0/.ephemeral_nfs/envs/pythonEnv-1a4a884d-62ab-45a3-b127-75cb88c5b55f/lib/python3.12/site-packages (from databricks-vectorsearch) (2.1.0)\nRequirement already satisfied: langchain-core<1.0.0,>=0.3.72 in /local_disk0/.ephemeral_nfs/envs/pythonEnv-1a4a884d-62ab-45a3-b127-75cb88c5b55f/lib/python3.12/site-packages (from langchain) (0.3.75)\nRequirement already satisfied: langchain-text-splitters<1.0.0,>=0.3.9 in /local_disk0/.ephemeral_nfs/envs/pythonEnv-1a4a884d-62ab-45a3-b127-75cb88c5b55f/lib/python3.12/site-packages (from langchain) (0.3.10)\nRequirement already satisfied: langsmith>=0.1.17 in /local_disk0/.ephemeral_nfs/envs/pythonEnv-1a4a884d-62ab-45a3-b127-75cb88c5b55f/lib/python3.12/site-packages (from langchain) (0.4.21)\nRequirement already satisfied: tenacity!=8.4.0,<10.0.0,>=8.1.0 in /databricks/python3/lib/python3.12/site-packages (from langchain-core<1.0.0,>=0.3.72->langchain) (8.2.2)\nRequirement already satisfied: jsonpatch<2.0,>=1.33 in /databricks/python3/lib/python3.12/site-packages (from langchain-core<1.0.0,>=0.3.72->langchain) (1.33)\nRequirement already satisfied: jsonpointer>=1.9 in /databricks/python3/lib/python3.12/site-packages (from jsonpatch<2.0,>=1.33->langchain-core<1.0.0,>=0.3.72->langchain) (3.0.0)\nRequirement already satisfied: pip>=25.2 in /local_disk0/.ephemeral_nfs/envs/pythonEnv-1a4a884d-62ab-45a3-b127-75cb88c5b55f/lib/python3.12/site-packages (from langchain-text-splitters<1.0.0,>=0.3.9->langchain) (25.2)\nRequirement already satisfied: langgraph-checkpoint<3.0.0,>=2.1.0 in /local_disk0/.ephemeral_nfs/envs/pythonEnv-1a4a884d-62ab-45a3-b127-75cb88c5b55f/lib/python3.12/site-packages (from langgraph) (2.1.1)\nRequirement already satisfied: langgraph-prebuilt<0.7.0,>=0.6.0 in /local_disk0/.ephemeral_nfs/envs/pythonEnv-1a4a884d-62ab-45a3-b127-75cb88c5b55f/lib/python3.12/site-packages (from langgraph) (0.6.4)\nRequirement already satisfied: langgraph-sdk<0.3.0,>=0.2.2 in /local_disk0/.ephemeral_nfs/envs/pythonEnv-1a4a884d-62ab-45a3-b127-75cb88c5b55f/lib/python3.12/site-packages (from langgraph) (0.2.4)\nRequirement already satisfied: xxhash>=3.5.0 in /local_disk0/.ephemeral_nfs/envs/pythonEnv-1a4a884d-62ab-45a3-b127-75cb88c5b55f/lib/python3.12/site-packages (from langgraph) (3.5.0)\nRequirement already satisfied: ormsgpack>=1.10.0 in /local_disk0/.ephemeral_nfs/envs/pythonEnv-1a4a884d-62ab-45a3-b127-75cb88c5b55f/lib/python3.12/site-packages (from langgraph-checkpoint<3.0.0,>=2.1.0->langgraph) (1.10.0)\nRequirement already satisfied: httpx>=0.25.2 in /databricks/python3/lib/python3.12/site-packages (from langgraph-sdk<0.3.0,>=0.2.2->langgraph) (0.28.1)\nRequirement already satisfied: orjson>=3.10.1 in /databricks/python3/lib/python3.12/site-packages (from langgraph-sdk<0.3.0,>=0.2.2->langgraph) (3.10.16)\nRequirement already satisfied: pycparser in /databricks/python3/lib/python3.12/site-packages (from cffi>=1.14->cryptography<46,>=43.0.0->mlflow) (2.21)\nRequirement already satisfied: tabulate>=0.9.0 in /databricks/python3/lib/python3.12/site-packages (from databricks-ai-bridge>=0.7.1->databricks-langchain) (0.9.0)\nRequirement already satisfied: tiktoken>=0.8.0 in /local_disk0/.ephemeral_nfs/envs/pythonEnv-1a4a884d-62ab-45a3-b127-75cb88c5b55f/lib/python3.12/site-packages (from databricks-ai-bridge>=0.7.1->databricks-langchain) (0.11.0)\nRequirement already satisfied: wrapt<2,>=1.10 in /databricks/python3/lib/python3.12/site-packages (from deprecated>=1.2.6->opentelemetry-api<3,>=1.9.0->mlflow-skinny==3.3.2->mlflow) (1.14.1)\nRequirement already satisfied: httpcore==1.* in /databricks/python3/lib/python3.12/site-packages (from httpx>=0.25.2->langgraph-sdk<0.3.0,>=0.2.2->langgraph) (1.0.8)\nRequirement already satisfied: MarkupSafe>=2.0 in /databricks/python3/lib/python3.12/site-packages (from Jinja2>=3.0->Flask<4->mlflow) (2.1.3)\nRequirement already satisfied: requests-toolbelt>=1.0.0 in /databricks/python3/lib/python3.12/site-packages (from langsmith>=0.1.17->langchain) (1.0.0)\nRequirement already satisfied: zstandard>=0.23.0 in /local_disk0/.ephemeral_nfs/envs/pythonEnv-1a4a884d-62ab-45a3-b127-75cb88c5b55f/lib/python3.12/site-packages (from langsmith>=0.1.17->langchain) (0.24.0)\nRequirement already satisfied: distro<2,>=1.7.0 in /usr/lib/python3/dist-packages (from openai>=1.99.9->databricks-langchain) (1.9.0)\nRequirement already satisfied: jiter<1,>=0.4.0 in /databricks/python3/lib/python3.12/site-packages (from openai>=1.99.9->databricks-langchain) (0.9.0)\nRequirement already satisfied: tqdm>4 in /databricks/python3/lib/python3.12/site-packages (from openai>=1.99.9->databricks-langchain) (4.66.4)\nRequirement already satisfied: regex>=2022.1.18 in /databricks/python3/lib/python3.12/site-packages (from tiktoken>=0.8.0->databricks-ai-bridge>=0.7.1->databricks-langchain) (2023.10.3)\nRequirement already satisfied: langchain-community>=0.2.0 in /local_disk0/.ephemeral_nfs/envs/pythonEnv-1a4a884d-62ab-45a3-b127-75cb88c5b55f/lib/python3.12/site-packages (from unitycatalog-langchain>=0.2.0->unitycatalog-langchain[databricks]>=0.2.0->databricks-langchain) (0.3.29)\nRequirement already satisfied: aiohttp<4.0.0,>=3.8.3 in /databricks/python3/lib/python3.12/site-packages (from langchain-community>=0.2.0->unitycatalog-langchain>=0.2.0->unitycatalog-langchain[databricks]>=0.2.0->databricks-langchain) (3.9.5)\nRequirement already satisfied: dataclasses-json<0.7,>=0.6.7 in /local_disk0/.ephemeral_nfs/envs/pythonEnv-1a4a884d-62ab-45a3-b127-75cb88c5b55f/lib/python3.12/site-packages (from langchain-community>=0.2.0->unitycatalog-langchain>=0.2.0->unitycatalog-langchain[databricks]>=0.2.0->databricks-langchain) (0.6.7)\nRequirement already satisfied: pydantic-settings<3.0.0,>=2.10.1 in /local_disk0/.ephemeral_nfs/envs/pythonEnv-1a4a884d-62ab-45a3-b127-75cb88c5b55f/lib/python3.12/site-packages (from langchain-community>=0.2.0->unitycatalog-langchain>=0.2.0->unitycatalog-langchain[databricks]>=0.2.0->databricks-langchain) (2.10.1)\nRequirement already satisfied: httpx-sse<1.0.0,>=0.4.0 in /local_disk0/.ephemeral_nfs/envs/pythonEnv-1a4a884d-62ab-45a3-b127-75cb88c5b55f/lib/python3.12/site-packages (from langchain-community>=0.2.0->unitycatalog-langchain>=0.2.0->unitycatalog-langchain[databricks]>=0.2.0->databricks-langchain) (0.4.1)\nRequirement already satisfied: aiosignal>=1.1.2 in /databricks/python3/lib/python3.12/site-packages (from aiohttp<4.0.0,>=3.8.3->langchain-community>=0.2.0->unitycatalog-langchain>=0.2.0->unitycatalog-langchain[databricks]>=0.2.0->databricks-langchain) (1.2.0)\nRequirement already satisfied: attrs>=17.3.0 in /databricks/python3/lib/python3.12/site-packages (from aiohttp<4.0.0,>=3.8.3->langchain-community>=0.2.0->unitycatalog-langchain>=0.2.0->unitycatalog-langchain[databricks]>=0.2.0->databricks-langchain) (23.1.0)\nRequirement already satisfied: frozenlist>=1.1.1 in /databricks/python3/lib/python3.12/site-packages (from aiohttp<4.0.0,>=3.8.3->langchain-community>=0.2.0->unitycatalog-langchain>=0.2.0->unitycatalog-langchain[databricks]>=0.2.0->databricks-langchain) (1.4.0)\nRequirement already satisfied: multidict<7.0,>=4.5 in /databricks/python3/lib/python3.12/site-packages (from aiohttp<4.0.0,>=3.8.3->langchain-community>=0.2.0->unitycatalog-langchain>=0.2.0->unitycatalog-langchain[databricks]>=0.2.0->databricks-langchain) (6.0.4)\nRequirement already satisfied: yarl<2.0,>=1.0 in /databricks/python3/lib/python3.12/site-packages (from aiohttp<4.0.0,>=3.8.3->langchain-community>=0.2.0->unitycatalog-langchain>=0.2.0->unitycatalog-langchain[databricks]>=0.2.0->databricks-langchain) (1.9.3)\nRequirement already satisfied: marshmallow<4.0.0,>=3.18.0 in /local_disk0/.ephemeral_nfs/envs/pythonEnv-1a4a884d-62ab-45a3-b127-75cb88c5b55f/lib/python3.12/site-packages (from dataclasses-json<0.7,>=0.6.7->langchain-community>=0.2.0->unitycatalog-langchain>=0.2.0->unitycatalog-langchain[databricks]>=0.2.0->databricks-langchain) (3.26.1)\nRequirement already satisfied: typing-inspect<1,>=0.4.0 in /local_disk0/.ephemeral_nfs/envs/pythonEnv-1a4a884d-62ab-45a3-b127-75cb88c5b55f/lib/python3.12/site-packages (from dataclasses-json<0.7,>=0.6.7->langchain-community>=0.2.0->unitycatalog-langchain>=0.2.0->unitycatalog-langchain[databricks]>=0.2.0->databricks-langchain) (0.9.0)\nRequirement already satisfied: python-dotenv>=0.21.0 in /local_disk0/.ephemeral_nfs/envs/pythonEnv-1a4a884d-62ab-45a3-b127-75cb88c5b55f/lib/python3.12/site-packages (from pydantic-settings<3.0.0,>=2.10.1->langchain-community>=0.2.0->unitycatalog-langchain>=0.2.0->unitycatalog-langchain[databricks]>=0.2.0->databricks-langchain) (1.1.1)\nRequirement already satisfied: mypy-extensions>=0.3.0 in /databricks/python3/lib/python3.12/site-packages (from typing-inspect<1,>=0.4.0->dataclasses-json<0.7,>=0.6.7->langchain-community>=0.2.0->unitycatalog-langchain>=0.2.0->unitycatalog-langchain[databricks]>=0.2.0->databricks-langchain) (1.0.0)\nRequirement already satisfied: aiohttp-retry>=2.8.3 in /local_disk0/.ephemeral_nfs/envs/pythonEnv-1a4a884d-62ab-45a3-b127-75cb88c5b55f/lib/python3.12/site-packages (from unitycatalog-client->unitycatalog-ai[databricks]) (2.9.1)\nDownloading faiss_cpu-1.12.0-cp312-cp312-manylinux_2_27_x86_64.manylinux_2_28_x86_64.whl (31.4 MB)\n\u001B[?25l   \u001B[90m━━━━━━━━━━━━━━━━━━━━━━━━━━━━━━━━━━━━━━━━\u001B[0m \u001B[32m0.0/31.4 MB\u001B[0m \u001B[31m?\u001B[0m eta \u001B[36m-:--:--\u001B[0m\n\u001B[2K   \u001B[91m━━━━━━━━━━━━━━━━━━━━━━━━━━━━━━━━━━━━━━━\u001B[0m\u001B[91m╸\u001B[0m \u001B[32m31.2/31.4 MB\u001B[0m \u001B[31m196.5 MB/s\u001B[0m eta \u001B[36m0:00:01\u001B[0m\n\u001B[2K   \u001B[90m━━━━━━━━━━━━━━━━━━━━━━━━━━━━━━━━━━━━━━━━\u001B[0m \u001B[32m31.4/31.4 MB\u001B[0m \u001B[31m97.6 MB/s\u001B[0m  \u001B[33m0:00:00\u001B[0m\n\u001B[?25hInstalling collected packages: faiss-cpu\nSuccessfully installed faiss-cpu-1.12.0\n\u001B[43mNote: you may need to restart the kernel using %restart_python or dbutils.library.restartPython() to use updated packages.\u001B[0m\n"
     ]
    }
   ],
   "source": [
    "#pip install openai==0.28\n",
    "#%pip install faiss-cpu\n",
    "\n",
    "%pip install -U mlflow databricks-sdk databricks-langchain unitycatalog-ai[databricks] \\\n",
    "databricks-vectorsearch langchain langgraph faiss-cpu\n"
   ]
  },
  {
   "cell_type": "code",
   "execution_count": 0,
   "metadata": {
    "application/vnd.databricks.v1+cell": {
     "cellMetadata": {
      "byteLimit": 2048000,
      "rowLimit": 10000
     },
     "inputWidgets": {},
     "nuid": "03573efc-092c-4908-8907-8ab6b4974cd6",
     "showTitle": false,
     "tableResultSettingsMap": {},
     "title": ""
    }
   },
   "outputs": [],
   "source": [
    "dbutils.library.restartPython()"
   ]
  },
  {
   "cell_type": "code",
   "execution_count": 0,
   "metadata": {
    "application/vnd.databricks.v1+cell": {
     "cellMetadata": {
      "byteLimit": 2048000,
      "rowLimit": 10000
     },
     "inputWidgets": {},
     "nuid": "7252ab03-0163-475e-a026-41a765e3b0ff",
     "showTitle": false,
     "tableResultSettingsMap": {},
     "title": ""
    }
   },
   "outputs": [
    {
     "output_type": "stream",
     "name": "stderr",
     "output_type": "stream",
     "text": [
      "2025-08-31 13:58:02.138468: I external/local_xla/xla/tsl/cuda/cudart_stub.cc:32] Could not find cuda drivers on your machine, GPU will not be used.\n2025-08-31 13:58:02.142859: I external/local_xla/xla/tsl/cuda/cudart_stub.cc:32] Could not find cuda drivers on your machine, GPU will not be used.\n2025-08-31 13:58:02.155642: E external/local_xla/xla/stream_executor/cuda/cuda_fft.cc:485] Unable to register cuFFT factory: Attempting to register factory for plugin cuFFT when one has already been registered\n2025-08-31 13:58:02.176650: E external/local_xla/xla/stream_executor/cuda/cuda_dnn.cc:8454] Unable to register cuDNN factory: Attempting to register factory for plugin cuDNN when one has already been registered\n2025-08-31 13:58:02.182931: E external/local_xla/xla/stream_executor/cuda/cuda_blas.cc:1452] Unable to register cuBLAS factory: Attempting to register factory for plugin cuBLAS when one has already been registered\n2025-08-31 13:58:02.198691: I tensorflow/core/platform/cpu_feature_guard.cc:210] This TensorFlow binary is optimized to use available CPU instructions in performance-critical operations.\nTo enable the following instructions: AVX2 AVX512F FMA, in other operations, rebuild TensorFlow with the appropriate compiler flags.\n2025-08-31 13:58:03.442033: W tensorflow/compiler/tf2tensorrt/utils/py_utils.cc:38] TF-TRT Warning: Could not find TensorRT\n"
     ]
    },
    {
     "output_type": "display_data",
     "data": {
      "application/vnd.jupyter.widget-view+json": {
       "model_id": "1b07ae3524b7487e893efffaecca4f45",
       "version_major": 2,
       "version_minor": 0
      },
      "text/plain": [
       "modules.json:   0%|          | 0.00/349 [00:00<?, ?B/s]"
      ]
     },
     "metadata": {},
     "output_type": "display_data"
    },
    {
     "output_type": "display_data",
     "data": {
      "application/vnd.jupyter.widget-view+json": {
       "model_id": "1b5cfda45d9841349074ce495fb71b7d",
       "version_major": 2,
       "version_minor": 0
      },
      "text/plain": [
       "config_sentence_transformers.json:   0%|          | 0.00/116 [00:00<?, ?B/s]"
      ]
     },
     "metadata": {},
     "output_type": "display_data"
    },
    {
     "output_type": "display_data",
     "data": {
      "application/vnd.jupyter.widget-view+json": {
       "model_id": "ea45f9a88e924010b0b071c8042a36de",
       "version_major": 2,
       "version_minor": 0
      },
      "text/plain": [
       "README.md: 0.00B [00:00, ?B/s]"
      ]
     },
     "metadata": {},
     "output_type": "display_data"
    },
    {
     "output_type": "display_data",
     "data": {
      "application/vnd.jupyter.widget-view+json": {
       "model_id": "f31aee13f764481ebb5724cf91c2a2c4",
       "version_major": 2,
       "version_minor": 0
      },
      "text/plain": [
       "sentence_bert_config.json:   0%|          | 0.00/53.0 [00:00<?, ?B/s]"
      ]
     },
     "metadata": {},
     "output_type": "display_data"
    },
    {
     "output_type": "display_data",
     "data": {
      "application/vnd.jupyter.widget-view+json": {
       "model_id": "cf93f743354a4906a6070f9bd441a81d",
       "version_major": 2,
       "version_minor": 0
      },
      "text/plain": [
       "config.json:   0%|          | 0.00/612 [00:00<?, ?B/s]"
      ]
     },
     "metadata": {},
     "output_type": "display_data"
    },
    {
     "output_type": "display_data",
     "data": {
      "application/vnd.jupyter.widget-view+json": {
       "model_id": "99d76b1c555d4c2d8be22189ec55b4c8",
       "version_major": 2,
       "version_minor": 0
      },
      "text/plain": [
       "model.safetensors:   0%|          | 0.00/90.9M [00:00<?, ?B/s]"
      ]
     },
     "metadata": {},
     "output_type": "display_data"
    },
    {
     "output_type": "display_data",
     "data": {
      "application/vnd.jupyter.widget-view+json": {
       "model_id": "0ced5f474f9d4c1a9ffe60a0d6720311",
       "version_major": 2,
       "version_minor": 0
      },
      "text/plain": [
       "tokenizer_config.json:   0%|          | 0.00/350 [00:00<?, ?B/s]"
      ]
     },
     "metadata": {},
     "output_type": "display_data"
    },
    {
     "output_type": "display_data",
     "data": {
      "application/vnd.jupyter.widget-view+json": {
       "model_id": "0c9763f2b20543bcb5655a2f8d7db905",
       "version_major": 2,
       "version_minor": 0
      },
      "text/plain": [
       "vocab.txt: 0.00B [00:00, ?B/s]"
      ]
     },
     "metadata": {},
     "output_type": "display_data"
    },
    {
     "output_type": "display_data",
     "data": {
      "application/vnd.jupyter.widget-view+json": {
       "model_id": "4c3229c95ede478e9e93cbb253703be4",
       "version_major": 2,
       "version_minor": 0
      },
      "text/plain": [
       "tokenizer.json: 0.00B [00:00, ?B/s]"
      ]
     },
     "metadata": {},
     "output_type": "display_data"
    },
    {
     "output_type": "display_data",
     "data": {
      "application/vnd.jupyter.widget-view+json": {
       "model_id": "57399c8f9b60430db9917cec529d8f8d",
       "version_major": 2,
       "version_minor": 0
      },
      "text/plain": [
       "special_tokens_map.json:   0%|          | 0.00/112 [00:00<?, ?B/s]"
      ]
     },
     "metadata": {},
     "output_type": "display_data"
    },
    {
     "output_type": "display_data",
     "data": {
      "application/vnd.jupyter.widget-view+json": {
       "model_id": "8448dc30b338469cbda164de6bbbf215",
       "version_major": 2,
       "version_minor": 0
      },
      "text/plain": [
       "config.json:   0%|          | 0.00/190 [00:00<?, ?B/s]"
      ]
     },
     "metadata": {},
     "output_type": "display_data"
    },
    {
     "output_type": "stream",
     "name": "stdout",
     "output_type": "stream",
     "text": [
      "\n Query: What were our Q2 2024 sales figures?\n Retrieved Documents:\n  • sales_q2_2024 (relevance: 0.68)\n  • sales_q1_2024 (relevance: 0.67)\n AI Response: According to Document 1, the Q2 2024 sales figures were:\n\n* Total revenue: $5.2M\n* Software subscriptions: $2.4M\n\n Query: How much should we invest in R&D this year?\n Retrieved Documents:\n  • product_strategy_2024 (relevance: 0.53)\n  • sales_q1_2024 (relevance: 0.38)\n AI Response: The context contains information about the investment needed in R&D, which is $2M, but it does not provide information about the current year's budget or investment plans. Therefore, I cannot determine how much should be invested in R&D this year based on the provided information.\n\n Query: What's our customer churn rate?\n Retrieved Documents:\n  • sales_q2_2024 (relevance: 0.46)\n  • sales_q1_2024 (relevance: 0.35)\n AI Response: Based on the provided context, the customer churn rate is 3.2%. This information is mentioned in Document 1: Q2 2024 Performance.\n"
     ]
    }
   ],
   "source": [
    "import numpy as np\n",
    "from sentence_transformers import SentenceTransformer\n",
    "import faiss\n",
    "import json\n",
    "import os, mlflow.deployments\n",
    "\n",
    "def basic_llm_chat(prompt):\n",
    "    \"\"\"Basic LLM interaction ; I'm using databricks model you can use your own model\"\"\"\n",
    "    try:\n",
    "        client = mlflow.deployments.get_deploy_client(\"databricks\")\n",
    "        resp = client.predict(\n",
    "            endpoint=\"databricks-meta-llama-3-1-8b-instruct\", # choose your chat model endpoint\n",
    "            inputs={\"messages\": [\n",
    "                {\"role\": \"system\", \"content\": \"You are a concise, accurate assistant.\"},{\"role\": \"user\", \"content\": prompt},],\n",
    "                    \"max_tokens\": 300,\n",
    "                    \"temperature\": 0.2,\n",
    "                    },)\n",
    "        return resp[\"choices\"][0][\"message\"][\"content\"]\n",
    "        \n",
    "    except Exception as e:\n",
    "        return f\"Error calling LLM API: {str(e)}\"\n",
    "    \n",
    "class RAGSystem:\n",
    "    def __init__(self, model_name=\"all-MiniLM-L6-v2\"):\n",
    "        \"\"\"Initialize RAG system with embedding model and vector store\"\"\"\n",
    "        self.embedding_model = SentenceTransformer(model_name)\n",
    "        self.documents = []\n",
    "        self.embeddings = None\n",
    "        self.index = None\n",
    "    \n",
    "    def add_documents(self, documents):\n",
    "        \"\"\"Add documents to the knowledge base\"\"\"\n",
    "        self.documents.extend(documents)\n",
    "        \n",
    "        # Generate embeddings for all documents\n",
    "        doc_embeddings = self.embedding_model.encode([doc['content'] for doc in documents])\n",
    "        \n",
    "        if self.embeddings is None:\n",
    "            self.embeddings = doc_embeddings\n",
    "        else:\n",
    "            self.embeddings = np.vstack([self.embeddings, doc_embeddings])\n",
    "        \n",
    "        # Build FAISS index for fast similarity search\n",
    "        dimension = self.embeddings.shape[1]\n",
    "        self.index = faiss.IndexFlatIP(dimension)  # Inner product for cosine similarity\n",
    "        \n",
    "        # Normalize embeddings for cosine similarity\n",
    "        faiss.normalize_L2(self.embeddings)\n",
    "        self.index.add(self.embeddings)\n",
    "    \n",
    "    def retrieve_context(self, query, top_k=3):\n",
    "        \"\"\"Retrieve most relevant documents for a query\"\"\"\n",
    "        if self.index is None:\n",
    "            return []\n",
    "        \n",
    "        # Embed the query\n",
    "        query_embedding = self.embedding_model.encode([query])\n",
    "        faiss.normalize_L2(query_embedding)\n",
    "        \n",
    "        # Search for similar documents\n",
    "        scores, indices = self.index.search(query_embedding, top_k)\n",
    "        \n",
    "        # Return relevant documents with scores\n",
    "        results = []\n",
    "        for i, (score, idx) in enumerate(zip(scores[0], indices[0])):\n",
    "            if idx < len(self.documents):\n",
    "                results.append({\n",
    "                    'document': self.documents[idx],\n",
    "                    'relevance_score': float(score),\n",
    "                    'rank': i + 1\n",
    "                })\n",
    "        \n",
    "        return results\n",
    "    \n",
    "    def generate_response(self, query, retrieved_docs):\n",
    "        \"\"\"Generate response using retrieved context\"\"\"\n",
    "        # Build context from retrieved documents\n",
    "        context = \"\\n\\n\".join([\n",
    "            f\"Document {i+1}: {doc['document']['content']}\"\n",
    "            for i, doc in enumerate(retrieved_docs)\n",
    "        ])\n",
    "        \n",
    "        # Create RAG prompt\n",
    "        rag_prompt = f\"\"\"Context Information:{context} Based on the above context, please answer the following question:{query}If the context doesn't contain enough information to answer the question, please say so.\"\"\"\n",
    "        \n",
    "        # In a real implementation, this would call your LLM\n",
    "        return basic_llm_chat(rag_prompt)\n",
    "          \n",
    "    \n",
    "# Sales Data RAG\n",
    "def setup_sales_rag_example():\n",
    "    \"\"\"Real-world example: Company sales data RAG system\"\"\"\n",
    "    \n",
    "    # Sample documents\n",
    "    company_docs = [\n",
    "        {\n",
    "            \"id\": \"sales_q1_2024\", \n",
    "            \"content\": \"Q1 2024 Sales Report: Total revenue reached $4.8M, representing 12% growth YoY. Key drivers included enterprise software sales ($2.1M) and consulting services ($1.9M). Geographic breakdown: North America 65%, Europe 25%, APAC 10%.\",\n",
    "            \"metadata\": {\"type\": \"sales_report\", \"quarter\": \"Q1\", \"year\": 2024}\n",
    "        },\n",
    "        {\n",
    "            \"id\": \"sales_q2_2024\", \n",
    "            \"content\": \"Q2 2024 Performance: Revenue hit $5.2M (+8% QoQ). Software subscriptions showed strong growth at $2.4M. New customer acquisition: 47 enterprise clients. Churn rate decreased to 3.2%.\",\n",
    "            \"metadata\": {\"type\": \"sales_report\", \"quarter\": \"Q2\", \"year\": 2024}\n",
    "        },\n",
    "        {\n",
    "            \"id\": \"product_strategy_2024\", \n",
    "            \"content\": \"2024 Product Strategy: Focus on AI-powered analytics platform. Expected market size $12B by 2025. Competitive advantage: 40% faster processing than nearest competitor. Investment needed: $2M in R&D.\",\n",
    "            \"metadata\": {\"type\": \"strategy\", \"year\": 2024}\n",
    "        }\n",
    "    ]\n",
    "    \n",
    "    # Initialize RAG system\n",
    "    rag_system = RAGSystem()\n",
    "    rag_system.add_documents(company_docs)\n",
    "    \n",
    "    return rag_system\n",
    "# Demo the RAG system\n",
    "rag_system = setup_sales_rag_example()\n",
    "# Example queries\n",
    "queries = [\n",
    "    \"What were our Q2 2024 sales figures?\",\n",
    "    \"How much should we invest in R&D this year?\",\n",
    "    \"What's our customer churn rate?\"\n",
    "]\n",
    "for query in queries:\n",
    "    print(f\"\\n Query: {query}\")\n",
    "    retrieved = rag_system.retrieve_context(query, top_k=2)\n",
    "    \n",
    "    print(\" Retrieved Documents:\")\n",
    "    for doc in retrieved:\n",
    "        print(f\"  • {doc['document']['id']} (relevance: {doc['relevance_score']:.2f})\")\n",
    "    \n",
    "    response = rag_system.generate_response(query, retrieved)\n",
    "    print(f\" AI Response: {response}\")"
   ]
  }
 ],
 "metadata": {
  "application/vnd.databricks.v1+notebook": {
   "computePreferences": null,
   "dashboards": [],
   "environmentMetadata": {
    "base_environment": "",
    "environment_version": "3"
   },
   "inputWidgetPreferences": null,
   "language": "python",
   "notebookMetadata": {
    "pythonIndentUnit": 4
   },
   "notebookName": "rag concept",
   "widgets": {}
  },
  "language_info": {
   "name": "python"
  }
 },
 "nbformat": 4,
 "nbformat_minor": 0
}